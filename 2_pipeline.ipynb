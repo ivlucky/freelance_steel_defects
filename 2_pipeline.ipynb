{
  "nbformat": 4,
  "nbformat_minor": 0,
  "metadata": {
    "interpreter": {
      "hash": "36255955261d5e753ab71561dcd885ee1b72d92e8be276c61d3593b517160cb0"
    },
    "kernelspec": {
      "display_name": "Python 3.8.9 64-bit ('steel_defects': venv)",
      "name": "python3"
    },
    "language_info": {
      "codemirror_mode": {
        "name": "ipython",
        "version": 3
      },
      "file_extension": ".py",
      "mimetype": "text/x-python",
      "name": "python",
      "nbconvert_exporter": "python",
      "pygments_lexer": "ipython3",
      "version": "3.8.9"
    },
    "orig_nbformat": 4,
    "colab": {
      "name": "2_pipeline.ipynb",
      "provenance": [],
      "include_colab_link": true
    }
  },
  "cells": [
    {
      "cell_type": "markdown",
      "metadata": {
        "id": "view-in-github",
        "colab_type": "text"
      },
      "source": [
        "<a href=\"https://colab.research.google.com/github/ivlucky/freelance_steel_defects/blob/master/2_pipeline.ipynb\" target=\"_parent\"><img src=\"https://colab.research.google.com/assets/colab-badge.svg\" alt=\"Open In Colab\"/></a>"
      ]
    },
    {
      "cell_type": "markdown",
      "metadata": {
        "id": "ya_WKRgDOT1P"
      },
      "source": [
        "# Installation"
      ]
    },
    {
      "cell_type": "code",
      "metadata": {
        "id": "Yb9QfEfPOTm0"
      },
      "source": [
        "!pip install xmltodict==0.12.0 --quiet\n",
        "!pip install pytorch_lightning==1.4.9 --quiet\n",
        "!pip install segmentation-models-pytorch==0.2.0 --quiet\n",
        "!pip install albumentations==1.1.0 --quiet"
      ],
      "execution_count": 1,
      "outputs": []
    },
    {
      "cell_type": "markdown",
      "metadata": {
        "id": "54WXlZ00OSwl"
      },
      "source": [
        "# Imports"
      ]
    },
    {
      "cell_type": "code",
      "metadata": {
        "id": "woWlp-g0VVFq"
      },
      "source": [
        "import os\n",
        "import xmltodict\n",
        "import numpy as np\n",
        "from typing import Dict\n",
        "from PIL import Image\n",
        "from tqdm.notebook import tqdm\n",
        "import matplotlib.pyplot as plt\n",
        "import matplotlib.image as mpimg\n",
        "import pytorch_lightning as pl\n",
        "import segmentation_models_pytorch as smp\n",
        "import albumentations as albu"
      ],
      "execution_count": 2,
      "outputs": []
    },
    {
      "cell_type": "markdown",
      "metadata": {
        "id": "evQn_kltOwtj"
      },
      "source": [
        "# Mount drive"
      ]
    },
    {
      "cell_type": "code",
      "metadata": {
        "id": "pkATC5q-Ov9m",
        "outputId": "cef325e5-f56f-4ff8-f8ce-b214bb0365da",
        "colab": {
          "base_uri": "https://localhost:8080/"
        }
      },
      "source": [
        "from google.colab import drive\n",
        "drive.mount('/content/drive')"
      ],
      "execution_count": 3,
      "outputs": [
        {
          "output_type": "stream",
          "name": "stdout",
          "text": [
            "Drive already mounted at /content/drive; to attempt to forcibly remount, call drive.mount(\"/content/drive\", force_remount=True).\n"
          ]
        }
      ]
    },
    {
      "cell_type": "markdown",
      "metadata": {
        "id": "cu3WIcBJPC8e"
      },
      "source": [
        "# Global variables"
      ]
    },
    {
      "cell_type": "code",
      "metadata": {
        "id": "kdprA3n3O1F2"
      },
      "source": [
        "DATAFOLDER = \"/content/drive/MyDrive/data/Project_steel_plate_defect_detection_dataset\"\n",
        "INPUTFOLDER = os.path.join(DATAFOLDER, \"input\")\n",
        "ANNOFOLDER = os.path.join(INPUTFOLDER, \"anno\")\n",
        "IMAGESFOLDER = os.path.join(INPUTFOLDER, \"images\")\n",
        "AUGMENTEDFOLDER = os.path.join(DATAFOLDER, \"augmented\")\n",
        "PROCESSEDFOLDER = os.path.join(DATAFOLDER, \"processed\")\n",
        "MASKFOLDER = os.path.join(PROCESSEDFOLDER, \"masks\")\n",
        "SPLITFOLDER = os.path.join(DATAFOLDER, \"split\")\n",
        "RANDOM_STATE = 42"
      ],
      "execution_count": 4,
      "outputs": []
    },
    {
      "cell_type": "markdown",
      "metadata": {
        "id": "2FRGOszbRHc-"
      },
      "source": [
        "# Functions"
      ]
    },
    {
      "cell_type": "code",
      "metadata": {
        "id": "NCOcyXfbPw7E"
      },
      "source": [
        "def get_xmldict(xmlfile):\n",
        "\n",
        "    with open(xmlfile, 'r') as fp:\n",
        "\n",
        "        xmlcontent = fp.read()\n",
        "        xmldict = xmltodict.parse(xmlcontent)\n",
        "\n",
        "    return xmldict\n",
        "\n",
        "def set_bndbox(mask, bndbox):\n",
        "\n",
        "    xmin, xmax = int(bndbox['xmin']), int(bndbox['xmax'])\n",
        "    ymin, ymax = int(bndbox['ymin']), int(bndbox['ymax'])\n",
        "\n",
        "    mask[xmin:xmax, ymin:ymax] = 1\n",
        "\n",
        "def set_allbndbox(mask, objects):\n",
        "\n",
        "    for obj in objects:\n",
        "        set_bndbox(mask, obj['bndbox'])\n",
        "\n",
        "def get_mask(xmlfile):\n",
        "\n",
        "    xmldict = get_xmldict(xmlfile)\n",
        "\n",
        "    mask = np.zeros((200, 200))\n",
        "    if isinstance(xmldict['annotation']['object'], Dict):\n",
        "        set_bndbox(mask, xmldict['annotation']['object']['bndbox'])\n",
        "    else:\n",
        "        set_allbndbox(mask, xmldict['annotation']['object'])\n",
        "\n",
        "    return mask.T\n",
        "\n",
        "def show_image(imgfile):\n",
        "\n",
        "    img = get_image(imgfile)\n",
        "    print(img.shape)\n",
        "    fig, ax = plt.subplots(nrows=1, ncols=1, figsize=(14, 14))\n",
        "    ax.imshow(img)\n",
        "    ax.axis('off')\n",
        "    return fig, ax\n",
        "\n",
        "def show_mask(xmlfile, fig, ax):\n",
        "\n",
        "    mask = get_mask(xmlfile)\n",
        "    ax.imshow(mask, alpha=0.3)\n",
        "\n",
        "def show_obj(object_val, datafolder='./'):\n",
        "\n",
        "    imgfile = os.path.join(datafolder, 'images', object_val + '.jpg')\n",
        "    xmlfile = os.path.join(datafolder, 'anno', object_val + '.xml')\n",
        "\n",
        "    fig, ax = show_image(imgfile)\n",
        "    show_mask(xmlfile, fig, ax)\n",
        "\n",
        "def sets_describe(set_1, set_2):\n",
        "\n",
        "    print(f\"set_1 len: {len(set_1)}\")\n",
        "    print(f\"set_2 len: {len(set_2)}\")\n",
        "    print(f\"set_1 - set_2 len: {len(set_1 - set_2)}\")\n",
        "    print(f\"set_2 - set_1 len: {len(set_2 - set_1)}\")\n",
        "    print(f\"symmetric diff len: {len(set_2.symmetric_difference(set_1))}\")\n",
        "    print(f\"intersection len: {len(set_1.intersection(set_2))}\")\n",
        "    print(f\"union len: {len(set_1.union(set_2))}\")\n",
        "\n",
        "def get_image(imgfile):\n",
        "\n",
        "    return mpimg.imread(imgfile)\n",
        "\n",
        "def save_mask(maskfile, mask):\n",
        "\n",
        "  np.save(maskfile, mask)\n",
        "\n",
        "def load_mask(maskfile):\n",
        "\n",
        "  return np.load(maskfile)"
      ],
      "execution_count": 5,
      "outputs": []
    },
    {
      "cell_type": "markdown",
      "metadata": {
        "id": "qs4c5SI09gbP"
      },
      "source": [
        "# Classes"
      ]
    },
    {
      "cell_type": "code",
      "metadata": {
        "id": "tmCZWYUm9kOq"
      },
      "source": [
        "class SegDataModule(pl.LightningDataModule):\n",
        "  def __init__(self, \n",
        "               anno_dir: str = \"./anno\",\n",
        "               img_dir: str = \"./images\",\n",
        "               mask_dir: str = \"./masks\"):\n",
        "\n",
        "    super().__init__()\n",
        "    self.anno_dir = anno_dir\n",
        "    self.img_dir = img_dir\n",
        "    self.mask_dir = mask_dir\n",
        "\n",
        "  def prepare_data(self):\n",
        "\n",
        "    jpgfiles = sorted(os.listdir(self.anno_dir))\n",
        "    xmlfiles = sorted(os.listdir(self.img_dir))\n",
        "\n",
        "    set_1 = set([f.split('.')[0] for f in jpgfiles])\n",
        "    set_2 = set([f.split('.')[0] for f in xmlfiles])\n",
        "    common_objects = set_1.intersection(set_2)\n",
        "\n",
        "    os.makedirs(self.mask_dir, exist_ok=True)\n",
        "\n",
        "    for obj in tqdm(common_objects):\n",
        "\n",
        "      xmlfile = os.path.join(self.anno_dir, \".\".join([obj, \"xml\"]))\n",
        "      mask = get_mask(xmlfile)\n",
        "      maskfile = os.path.join(self.img_dir, \".\".join([obj, \"npy\"]))\n",
        "      save_mask(maskfile, mask)"
      ],
      "execution_count": null,
      "outputs": []
    },
    {
      "cell_type": "markdown",
      "metadata": {
        "id": "3AYthOgT9cbz"
      },
      "source": [
        "# Test check"
      ]
    },
    {
      "cell_type": "code",
      "metadata": {
        "id": "Q7FNTa20lRen"
      },
      "source": [
        ""
      ],
      "execution_count": 7,
      "outputs": []
    }
  ]
}