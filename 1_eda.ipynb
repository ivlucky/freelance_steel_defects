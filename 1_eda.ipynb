{
 "cells": [
  {
   "cell_type": "markdown",
   "metadata": {},
   "source": [
    "# Imports"
   ]
  },
  {
   "cell_type": "code",
   "execution_count": null,
   "metadata": {},
   "outputs": [],
   "source": [
    "import xml.etree.ElementTree as ET\n",
    "import xmltodict\n",
    "import os\n",
    "import numpy as np\n",
    "import pandas as pd\n",
    "import matplotlib.pyplot as plt\n",
    "import matplotlib.image as mpimg\n",
    "from typing import Dict"
   ]
  },
  {
   "cell_type": "markdown",
   "metadata": {},
   "source": [
    "# Check xml files"
   ]
  },
  {
   "cell_type": "code",
   "execution_count": null,
   "metadata": {},
   "outputs": [],
   "source": [
    "datafolder = './data'\n",
    "xmlfile = os.listdir('./data/anno')[0]"
   ]
  },
  {
   "cell_type": "code",
   "execution_count": null,
   "metadata": {},
   "outputs": [],
   "source": [
    "tree = ET.parse(os.path.join(datafolder, 'anno', xmlfile))\n",
    "root = tree.getroot()"
   ]
  },
  {
   "cell_type": "code",
   "execution_count": null,
   "metadata": {},
   "outputs": [],
   "source": [
    "for child in root:\n",
    "    print(child.tag, child.attrib)"
   ]
  },
  {
   "cell_type": "code",
   "execution_count": null,
   "metadata": {},
   "outputs": [],
   "source": [
    "root[5][4][0].text"
   ]
  },
  {
   "cell_type": "markdown",
   "metadata": {},
   "source": [
    "# xml -> dict"
   ]
  },
  {
   "cell_type": "code",
   "execution_count": null,
   "metadata": {},
   "outputs": [],
   "source": [
    "with open(os.path.join(datafolder, 'anno', xmlfile), 'r') as fp:\n",
    "\n",
    "    xmlcontent = fp.read()\n",
    "    d = xmltodict.parse(xmlcontent)\n",
    "d['annotation']['object'][1]"
   ]
  },
  {
   "cell_type": "markdown",
   "metadata": {},
   "source": [
    "# Functions"
   ]
  },
  {
   "cell_type": "code",
   "execution_count": null,
   "metadata": {},
   "outputs": [],
   "source": [
    "def set_bndbox(mask, bndbox):\n",
    "\n",
    "    xmin, xmax = int(bndbox['xmin']), int(bndbox['xmax'])\n",
    "    ymin, ymax = int(bndbox['ymin']), int(bndbox['ymax'])\n",
    "\n",
    "    mask[xmin:xmax, ymin:ymax] = 1\n",
    "\n",
    "def set_allbndbox(mask, objects):\n",
    "\n",
    "    for obj in objects:\n",
    "        set_bndbox(mask, obj['bndbox'])\n",
    "\n",
    "def sets_describe(set_1, set_2):\n",
    "\n",
    "    print(f\"set_1 len: {len(set_1)}\")\n",
    "    print(f\"set_2 len: {len(set_2)}\")\n",
    "    print(f\"set_1 - set_2 len: {len(set_1 - set_2)}\")\n",
    "    print(f\"set_2 - set_1 len: {len(set_2 - set_1)}\")\n",
    "    print(f\"symmetric diff len: {len(set_2.symmetric_difference(set_1))}\")\n",
    "    print(f\"intersection len: {len(set_1.intersection(set_2))}\")\n",
    "    print(f\"union len: {len(set_1.union(set_2))}\")\n",
    "\n",
    "def get_image(imgfile):\n",
    "\n",
    "    return mpimg.imread(imgfile)\n",
    "\n",
    "def get_xmldict(xmlfile):\n",
    "\n",
    "    with open(xmlfile, 'r') as fp:\n",
    "\n",
    "        xmlcontent = fp.read()\n",
    "        xmldict = xmltodict.parse(xmlcontent)\n",
    "\n",
    "    return xmldict\n",
    "\n",
    "def get_mask(xmlfile):\n",
    "\n",
    "    xmldict = get_xmldict(xmlfile)\n",
    "\n",
    "    mask = np.zeros((200, 200))\n",
    "    if isinstance(xmldict['annotation']['object'], Dict):\n",
    "        set_bndbox(mask, xmldict['annotation']['object']['bndbox'])\n",
    "    else:\n",
    "        set_allbndbox(mask, xmldict['annotation']['object'])\n",
    "\n",
    "    return mask\n",
    "\n",
    "def show_image(imgfile):\n",
    "\n",
    "    img = get_image(imgfile)\n",
    "    print(img.shape)\n",
    "    fig, ax = plt.subplots(nrows=1, ncols=1, figsize=(14, 14))\n",
    "    ax.imshow(img)\n",
    "    ax.axis('off')\n",
    "    return fig, ax\n",
    "\n",
    "def show_mask(xmlfile, fig, ax):\n",
    "\n",
    "    mask = get_mask(xmlfile)\n",
    "\n",
    "    ax.imshow(mask.T, alpha=0.3)\n",
    "\n",
    "def show_obj(object_val, datafolder='./'):\n",
    "\n",
    "    imgfile = os.path.join(datafolder, 'images', object_val + '.jpg')\n",
    "    xmlfile = os.path.join(datafolder, 'anno', object_val + '.xml')\n",
    "\n",
    "    fig, ax = show_image(imgfile)\n",
    "    show_mask(xmlfile, fig, ax)\n",
    "\n",
    "def get_stats(object_val, datafolder='./'):\n",
    "\n",
    "    imgfile = os.path.join(datafolder, 'images', object_val + '.jpg')\n",
    "    xmlfile = os.path.join(datafolder, 'anno', object_val + '.xml')\n",
    "\n",
    "    img = get_image(imgfile)\n",
    "    mask = get_mask(xmlfile)\n",
    "\n",
    "    return img.shape, mask.sum()"
   ]
  },
  {
   "cell_type": "markdown",
   "metadata": {},
   "source": [
    "# Some tests"
   ]
  },
  {
   "cell_type": "code",
   "execution_count": null,
   "metadata": {},
   "outputs": [],
   "source": [
    "mask = np.zeros((200,200))\n",
    "bndbox = d['annotation']['object'][0]['bndbox']\n",
    "print(mask.sum())\n",
    "set_bndbox(mask, bndbox)\n",
    "print(mask.sum())"
   ]
  },
  {
   "cell_type": "code",
   "execution_count": null,
   "metadata": {},
   "outputs": [],
   "source": [
    "mask = np.zeros((200,200))\n",
    "objects = d['annotation']['object']\n",
    "print(mask.sum())\n",
    "set_allbndbox(mask, objects)\n",
    "print(mask.sum())"
   ]
  },
  {
   "cell_type": "code",
   "execution_count": null,
   "metadata": {},
   "outputs": [],
   "source": [
    "jpgfiles = sorted(os.listdir('./data/images'))\n",
    "xmlfiles = sorted(os.listdir('./data/anno'))\n",
    "\n",
    "set_1 = set([f.split('.')[0] for f in jpgfiles])\n",
    "set_2 = set([f.split('.')[0] for f in xmlfiles])\n",
    "common_objects = set_1.intersection(set_2)\n",
    "sets_describe(set_1, set_2)"
   ]
  },
  {
   "cell_type": "markdown",
   "metadata": {},
   "source": [
    "# Get stats for images"
   ]
  },
  {
   "cell_type": "code",
   "execution_count": null,
   "metadata": {},
   "outputs": [],
   "source": [
    "obj_dict = {obj: obj.split('_')[0] for obj in common_objects}\n",
    "df_obj = pd.DataFrame([obj_dict.keys(), obj_dict.values()], index=['obj', 'type']).T\n",
    "df_obj['id'] = df_obj['obj'].str.split('_').str[1].astype(int)\n",
    "df_obj = df_obj.sort_values(['type', 'id']).reset_index(drop=True)"
   ]
  },
  {
   "cell_type": "code",
   "execution_count": null,
   "metadata": {},
   "outputs": [],
   "source": [
    "df_obj['type'].unique()"
   ]
  },
  {
   "cell_type": "code",
   "execution_count": null,
   "metadata": {},
   "outputs": [],
   "source": [
    "df_obj['id'].nunique()"
   ]
  },
  {
   "cell_type": "code",
   "execution_count": null,
   "metadata": {},
   "outputs": [],
   "source": [
    "i = 7\n",
    "object_val = df_obj.loc[i, 'obj']\n",
    "show_obj(object_val, datafolder)"
   ]
  },
  {
   "cell_type": "code",
   "execution_count": null,
   "metadata": {},
   "outputs": [],
   "source": [
    "# for idx, row in tqdm(df_obj.iterrows()):\n",
    "df_merge = {\n",
    "    'obj': [],\n",
    "    'w': [],\n",
    "    'h': [],\n",
    "    'd': [],\n",
    "    'm_s': [],\n",
    "}\n",
    "for idx, row in df_obj.iterrows():\n",
    "\n",
    "    img_shape, mask_size = get_stats(row['obj'], datafolder)\n",
    "    df_merge['obj'].append(row['obj'])\n",
    "    df_merge['w'].append(img_shape[0])\n",
    "    df_merge['h'].append(img_shape[1])\n",
    "    df_merge['d'].append(img_shape[2])\n",
    "    df_merge['m_s'].append(mask_size)\n",
    "\n",
    "df_merge = pd.DataFrame(df_merge)\n",
    "\n",
    "df_stats = df_obj.merge(df_merge, on='obj', how='left')\n",
    "\n",
    "df_stats['m_s_p'] = df_stats['m_s'] / (df_stats['w'] * df_stats['h']) \n",
    "df_stats.head()"
   ]
  },
  {
   "cell_type": "code",
   "execution_count": null,
   "metadata": {},
   "outputs": [],
   "source": [
    "df_stats['type'].unique()"
   ]
  },
  {
   "cell_type": "code",
   "execution_count": null,
   "metadata": {},
   "outputs": [],
   "source": [
    "mask = df_stats['type'] == 'inclusion'\n",
    "df_stats[mask].describe().drop(['count'], axis=0).drop(['id'], axis=1)"
   ]
  },
  {
   "cell_type": "code",
   "execution_count": null,
   "metadata": {},
   "outputs": [],
   "source": [
    "fig, ax = plt.subplots(1, 1, figsize=(14, 12))\n",
    "df_stats[mask]['m_s_p'].hist(ax=ax, alpha=0.3, label='inclusion')\n",
    "df_stats[~mask]['m_s_p'].hist(ax=ax, alpha=0.3, label='scratches')\n",
    "plt.legend()"
   ]
  }
 ],
 "metadata": {
  "interpreter": {
   "hash": "36255955261d5e753ab71561dcd885ee1b72d92e8be276c61d3593b517160cb0"
  },
  "kernelspec": {
   "display_name": "Python 3.8.9 64-bit ('steel_defects': venv)",
   "name": "python3"
  },
  "language_info": {
   "codemirror_mode": {
    "name": "ipython",
    "version": 3
   },
   "file_extension": ".py",
   "mimetype": "text/x-python",
   "name": "python",
   "nbconvert_exporter": "python",
   "pygments_lexer": "ipython3",
   "version": "3.8.9"
  },
  "orig_nbformat": 4
 },
 "nbformat": 4,
 "nbformat_minor": 2
}
