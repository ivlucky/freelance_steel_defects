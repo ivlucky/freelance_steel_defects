{
  "nbformat": 4,
  "nbformat_minor": 0,
  "metadata": {
    "interpreter": {
      "hash": "36255955261d5e753ab71561dcd885ee1b72d92e8be276c61d3593b517160cb0"
    },
    "kernelspec": {
      "display_name": "Python 3.8.9 64-bit ('steel_defects': venv)",
      "name": "python3"
    },
    "language_info": {
      "codemirror_mode": {
        "name": "ipython",
        "version": 3
      },
      "file_extension": ".py",
      "mimetype": "text/x-python",
      "name": "python",
      "nbconvert_exporter": "python",
      "pygments_lexer": "ipython3",
      "version": "3.8.9"
    },
    "orig_nbformat": 4,
    "colab": {
      "name": "1_eda.ipynb",
      "provenance": [],
      "include_colab_link": true
    },
    "widgets": {
      "application/vnd.jupyter.widget-state+json": {
        "010d1a816765407784581a91432f3073": {
          "model_module": "@jupyter-widgets/controls",
          "model_name": "HBoxModel",
          "model_module_version": "1.5.0",
          "state": {
            "_view_name": "HBoxView",
            "_dom_classes": [],
            "_model_name": "HBoxModel",
            "_view_module": "@jupyter-widgets/controls",
            "_model_module_version": "1.5.0",
            "_view_count": null,
            "_view_module_version": "1.5.0",
            "box_style": "",
            "layout": "IPY_MODEL_0314c999317b4721a93dd1c7c8af7d57",
            "_model_module": "@jupyter-widgets/controls",
            "children": [
              "IPY_MODEL_27a7cc176c8740979890abbbf69000fe",
              "IPY_MODEL_10dbee94237548979437f9f75895c414",
              "IPY_MODEL_ebb275e8a71c42838b75a61bad83a8a1"
            ]
          }
        },
        "0314c999317b4721a93dd1c7c8af7d57": {
          "model_module": "@jupyter-widgets/base",
          "model_name": "LayoutModel",
          "model_module_version": "1.2.0",
          "state": {
            "_view_name": "LayoutView",
            "grid_template_rows": null,
            "right": null,
            "justify_content": null,
            "_view_module": "@jupyter-widgets/base",
            "overflow": null,
            "_model_module_version": "1.2.0",
            "_view_count": null,
            "flex_flow": null,
            "width": null,
            "min_width": null,
            "border": null,
            "align_items": null,
            "bottom": null,
            "_model_module": "@jupyter-widgets/base",
            "top": null,
            "grid_column": null,
            "overflow_y": null,
            "overflow_x": null,
            "grid_auto_flow": null,
            "grid_area": null,
            "grid_template_columns": null,
            "flex": null,
            "_model_name": "LayoutModel",
            "justify_items": null,
            "grid_row": null,
            "max_height": null,
            "align_content": null,
            "visibility": null,
            "align_self": null,
            "height": null,
            "min_height": null,
            "padding": null,
            "grid_auto_rows": null,
            "grid_gap": null,
            "max_width": null,
            "order": null,
            "_view_module_version": "1.2.0",
            "grid_template_areas": null,
            "object_position": null,
            "object_fit": null,
            "grid_auto_columns": null,
            "margin": null,
            "display": null,
            "left": null
          }
        },
        "27a7cc176c8740979890abbbf69000fe": {
          "model_module": "@jupyter-widgets/controls",
          "model_name": "HTMLModel",
          "model_module_version": "1.5.0",
          "state": {
            "_view_name": "HTMLView",
            "style": "IPY_MODEL_c21116f44bc447d58b2906f391861221",
            "_dom_classes": [],
            "description": "",
            "_model_name": "HTMLModel",
            "placeholder": "​",
            "_view_module": "@jupyter-widgets/controls",
            "_model_module_version": "1.5.0",
            "value": "",
            "_view_count": null,
            "_view_module_version": "1.5.0",
            "description_tooltip": null,
            "_model_module": "@jupyter-widgets/controls",
            "layout": "IPY_MODEL_c2b807e171b94474a479a1ea5527bcca"
          }
        },
        "10dbee94237548979437f9f75895c414": {
          "model_module": "@jupyter-widgets/controls",
          "model_name": "FloatProgressModel",
          "model_module_version": "1.5.0",
          "state": {
            "_view_name": "ProgressView",
            "style": "IPY_MODEL_276c42bcf15a4f51940deaf98c4447bb",
            "_dom_classes": [],
            "description": "",
            "_model_name": "FloatProgressModel",
            "bar_style": "success",
            "max": 1,
            "_view_module": "@jupyter-widgets/controls",
            "_model_module_version": "1.5.0",
            "value": 1,
            "_view_count": null,
            "_view_module_version": "1.5.0",
            "orientation": "horizontal",
            "min": 0,
            "description_tooltip": null,
            "_model_module": "@jupyter-widgets/controls",
            "layout": "IPY_MODEL_99c909ea996c4bbbace7427144c3809a"
          }
        },
        "ebb275e8a71c42838b75a61bad83a8a1": {
          "model_module": "@jupyter-widgets/controls",
          "model_name": "HTMLModel",
          "model_module_version": "1.5.0",
          "state": {
            "_view_name": "HTMLView",
            "style": "IPY_MODEL_18951aee153743648dbc86e462d786de",
            "_dom_classes": [],
            "description": "",
            "_model_name": "HTMLModel",
            "placeholder": "​",
            "_view_module": "@jupyter-widgets/controls",
            "_model_module_version": "1.5.0",
            "value": " 480/? [00:02&lt;00:00, 232.99it/s]",
            "_view_count": null,
            "_view_module_version": "1.5.0",
            "description_tooltip": null,
            "_model_module": "@jupyter-widgets/controls",
            "layout": "IPY_MODEL_85f7bb8dbc54438999e984108c313507"
          }
        },
        "c21116f44bc447d58b2906f391861221": {
          "model_module": "@jupyter-widgets/controls",
          "model_name": "DescriptionStyleModel",
          "model_module_version": "1.5.0",
          "state": {
            "_view_name": "StyleView",
            "_model_name": "DescriptionStyleModel",
            "description_width": "",
            "_view_module": "@jupyter-widgets/base",
            "_model_module_version": "1.5.0",
            "_view_count": null,
            "_view_module_version": "1.2.0",
            "_model_module": "@jupyter-widgets/controls"
          }
        },
        "c2b807e171b94474a479a1ea5527bcca": {
          "model_module": "@jupyter-widgets/base",
          "model_name": "LayoutModel",
          "model_module_version": "1.2.0",
          "state": {
            "_view_name": "LayoutView",
            "grid_template_rows": null,
            "right": null,
            "justify_content": null,
            "_view_module": "@jupyter-widgets/base",
            "overflow": null,
            "_model_module_version": "1.2.0",
            "_view_count": null,
            "flex_flow": null,
            "width": null,
            "min_width": null,
            "border": null,
            "align_items": null,
            "bottom": null,
            "_model_module": "@jupyter-widgets/base",
            "top": null,
            "grid_column": null,
            "overflow_y": null,
            "overflow_x": null,
            "grid_auto_flow": null,
            "grid_area": null,
            "grid_template_columns": null,
            "flex": null,
            "_model_name": "LayoutModel",
            "justify_items": null,
            "grid_row": null,
            "max_height": null,
            "align_content": null,
            "visibility": null,
            "align_self": null,
            "height": null,
            "min_height": null,
            "padding": null,
            "grid_auto_rows": null,
            "grid_gap": null,
            "max_width": null,
            "order": null,
            "_view_module_version": "1.2.0",
            "grid_template_areas": null,
            "object_position": null,
            "object_fit": null,
            "grid_auto_columns": null,
            "margin": null,
            "display": null,
            "left": null
          }
        },
        "276c42bcf15a4f51940deaf98c4447bb": {
          "model_module": "@jupyter-widgets/controls",
          "model_name": "ProgressStyleModel",
          "model_module_version": "1.5.0",
          "state": {
            "_view_name": "StyleView",
            "_model_name": "ProgressStyleModel",
            "description_width": "",
            "_view_module": "@jupyter-widgets/base",
            "_model_module_version": "1.5.0",
            "_view_count": null,
            "_view_module_version": "1.2.0",
            "bar_color": null,
            "_model_module": "@jupyter-widgets/controls"
          }
        },
        "99c909ea996c4bbbace7427144c3809a": {
          "model_module": "@jupyter-widgets/base",
          "model_name": "LayoutModel",
          "model_module_version": "1.2.0",
          "state": {
            "_view_name": "LayoutView",
            "grid_template_rows": null,
            "right": null,
            "justify_content": null,
            "_view_module": "@jupyter-widgets/base",
            "overflow": null,
            "_model_module_version": "1.2.0",
            "_view_count": null,
            "flex_flow": null,
            "width": "20px",
            "min_width": null,
            "border": null,
            "align_items": null,
            "bottom": null,
            "_model_module": "@jupyter-widgets/base",
            "top": null,
            "grid_column": null,
            "overflow_y": null,
            "overflow_x": null,
            "grid_auto_flow": null,
            "grid_area": null,
            "grid_template_columns": null,
            "flex": null,
            "_model_name": "LayoutModel",
            "justify_items": null,
            "grid_row": null,
            "max_height": null,
            "align_content": null,
            "visibility": null,
            "align_self": null,
            "height": null,
            "min_height": null,
            "padding": null,
            "grid_auto_rows": null,
            "grid_gap": null,
            "max_width": null,
            "order": null,
            "_view_module_version": "1.2.0",
            "grid_template_areas": null,
            "object_position": null,
            "object_fit": null,
            "grid_auto_columns": null,
            "margin": null,
            "display": null,
            "left": null
          }
        },
        "18951aee153743648dbc86e462d786de": {
          "model_module": "@jupyter-widgets/controls",
          "model_name": "DescriptionStyleModel",
          "model_module_version": "1.5.0",
          "state": {
            "_view_name": "StyleView",
            "_model_name": "DescriptionStyleModel",
            "description_width": "",
            "_view_module": "@jupyter-widgets/base",
            "_model_module_version": "1.5.0",
            "_view_count": null,
            "_view_module_version": "1.2.0",
            "_model_module": "@jupyter-widgets/controls"
          }
        },
        "85f7bb8dbc54438999e984108c313507": {
          "model_module": "@jupyter-widgets/base",
          "model_name": "LayoutModel",
          "model_module_version": "1.2.0",
          "state": {
            "_view_name": "LayoutView",
            "grid_template_rows": null,
            "right": null,
            "justify_content": null,
            "_view_module": "@jupyter-widgets/base",
            "overflow": null,
            "_model_module_version": "1.2.0",
            "_view_count": null,
            "flex_flow": null,
            "width": null,
            "min_width": null,
            "border": null,
            "align_items": null,
            "bottom": null,
            "_model_module": "@jupyter-widgets/base",
            "top": null,
            "grid_column": null,
            "overflow_y": null,
            "overflow_x": null,
            "grid_auto_flow": null,
            "grid_area": null,
            "grid_template_columns": null,
            "flex": null,
            "_model_name": "LayoutModel",
            "justify_items": null,
            "grid_row": null,
            "max_height": null,
            "align_content": null,
            "visibility": null,
            "align_self": null,
            "height": null,
            "min_height": null,
            "padding": null,
            "grid_auto_rows": null,
            "grid_gap": null,
            "max_width": null,
            "order": null,
            "_view_module_version": "1.2.0",
            "grid_template_areas": null,
            "object_position": null,
            "object_fit": null,
            "grid_auto_columns": null,
            "margin": null,
            "display": null,
            "left": null
          }
        }
      }
    }
  },
  "cells": [
    {
      "cell_type": "markdown",
      "metadata": {
        "id": "view-in-github",
        "colab_type": "text"
      },
      "source": [
        "<a href=\"https://colab.research.google.com/github/ivlucky/freelance_steel_defects/blob/master/1_eda.ipynb\" target=\"_parent\"><img src=\"https://colab.research.google.com/assets/colab-badge.svg\" alt=\"Open In Colab\"/></a>"
      ]
    },
    {
      "cell_type": "markdown",
      "metadata": {
        "id": "MMoAwMT47ZsX"
      },
      "source": [
        "# Installation"
      ]
    },
    {
      "cell_type": "code",
      "metadata": {
        "id": "rvhHlqnI7ZLW",
        "outputId": "51848ead-4881-409f-e78f-6bd92169b0f8",
        "colab": {
          "base_uri": "https://localhost:8080/"
        }
      },
      "source": [
        "!pip install xmltodict==0.12.0"
      ],
      "execution_count": 1,
      "outputs": [
        {
          "output_type": "stream",
          "name": "stdout",
          "text": [
            "Requirement already satisfied: xmltodict==0.12.0 in /usr/local/lib/python3.7/dist-packages (0.12.0)\n"
          ]
        }
      ]
    },
    {
      "cell_type": "markdown",
      "metadata": {
        "id": "Wl9gqBpg7Njj"
      },
      "source": [
        "# Imports"
      ]
    },
    {
      "cell_type": "code",
      "metadata": {
        "id": "1PVhdtPf7Njp"
      },
      "source": [
        "import xml.etree.ElementTree as ET\n",
        "import xmltodict\n",
        "import os\n",
        "import numpy as np\n",
        "import pandas as pd\n",
        "from tqdm.notebook import tqdm\n",
        "import matplotlib.pyplot as plt\n",
        "import matplotlib.image as mpimg\n",
        "from typing import Dict\n",
        "\n"
      ],
      "execution_count": 2,
      "outputs": []
    },
    {
      "cell_type": "markdown",
      "metadata": {
        "id": "ocMcOexg7S08"
      },
      "source": [
        "# Add mount"
      ]
    },
    {
      "cell_type": "code",
      "metadata": {
        "id": "WevOMcIX7SD2",
        "outputId": "825ca854-1020-492a-a198-23f8c296f0bf",
        "colab": {
          "base_uri": "https://localhost:8080/"
        }
      },
      "source": [
        "from google.colab import drive\n",
        "drive.mount('/content/drive')"
      ],
      "execution_count": 3,
      "outputs": [
        {
          "output_type": "stream",
          "name": "stdout",
          "text": [
            "Drive already mounted at /content/drive; to attempt to forcibly remount, call drive.mount(\"/content/drive\", force_remount=True).\n"
          ]
        }
      ]
    },
    {
      "cell_type": "markdown",
      "metadata": {
        "id": "LAS15VO47Njr"
      },
      "source": [
        "# Check xml files"
      ]
    },
    {
      "cell_type": "code",
      "metadata": {
        "id": "WobO1Fo17Njs"
      },
      "source": [
        "datafolder = '/content/drive/MyDrive/data/Project_steel_plate_defect_detection_dataset'\n",
        "xmlfile = os.listdir(os.path.join(datafolder, 'anno'))[0]"
      ],
      "execution_count": 4,
      "outputs": []
    },
    {
      "cell_type": "code",
      "metadata": {
        "id": "IKGGD5f97Njs"
      },
      "source": [
        "tree = ET.parse(os.path.join(datafolder, 'anno', xmlfile))\n",
        "root = tree.getroot()"
      ],
      "execution_count": 5,
      "outputs": []
    },
    {
      "cell_type": "code",
      "metadata": {
        "id": "Li6SFSYy7Njs",
        "outputId": "efef6958-1fc9-4f59-c4b7-c67e95cc73ea",
        "colab": {
          "base_uri": "https://localhost:8080/"
        }
      },
      "source": [
        "for child in root:\n",
        "    print(child.tag, child.attrib)"
      ],
      "execution_count": 6,
      "outputs": [
        {
          "output_type": "stream",
          "name": "stdout",
          "text": [
            "folder {}\n",
            "filename {}\n",
            "source {}\n",
            "size {}\n",
            "segmented {}\n",
            "object {}\n",
            "object {}\n",
            "object {}\n",
            "object {}\n"
          ]
        }
      ]
    },
    {
      "cell_type": "code",
      "metadata": {
        "id": "emi-zaKI7Njs",
        "outputId": "03d5da99-a6f2-4d21-876b-2252f1544417",
        "colab": {
          "base_uri": "https://localhost:8080/",
          "height": 36
        }
      },
      "source": [
        "root[5][4][0].text"
      ],
      "execution_count": 7,
      "outputs": [
        {
          "output_type": "execute_result",
          "data": {
            "application/vnd.google.colaboratory.intrinsic+json": {
              "type": "string"
            },
            "text/plain": [
              "'120'"
            ]
          },
          "metadata": {},
          "execution_count": 7
        }
      ]
    },
    {
      "cell_type": "markdown",
      "metadata": {
        "id": "qTli_h1f7Njt"
      },
      "source": [
        "# xml -> dict"
      ]
    },
    {
      "cell_type": "code",
      "metadata": {
        "id": "R2h6P41o7Njt",
        "outputId": "f7f48d89-9848-4078-d488-c3967b3822ff",
        "colab": {
          "base_uri": "https://localhost:8080/"
        }
      },
      "source": [
        "with open(os.path.join(datafolder, 'anno', xmlfile), 'r') as fp:\n",
        "\n",
        "    xmlcontent = fp.read()\n",
        "    d = xmltodict.parse(xmlcontent)\n",
        "d['annotation']['object'][1]"
      ],
      "execution_count": 8,
      "outputs": [
        {
          "output_type": "execute_result",
          "data": {
            "text/plain": [
              "OrderedDict([('name', 'inclusion'),\n",
              "             ('pose', 'Unspecified'),\n",
              "             ('truncated', '0'),\n",
              "             ('difficult', '0'),\n",
              "             ('bndbox',\n",
              "              OrderedDict([('xmin', '148'),\n",
              "                           ('ymin', '45'),\n",
              "                           ('xmax', '170'),\n",
              "                           ('ymax', '84')]))])"
            ]
          },
          "metadata": {},
          "execution_count": 8
        }
      ]
    },
    {
      "cell_type": "markdown",
      "metadata": {
        "id": "oH5GBCPW7Njt"
      },
      "source": [
        "# Functions"
      ]
    },
    {
      "cell_type": "code",
      "metadata": {
        "id": "joiq2SIL7Nju"
      },
      "source": [
        "def set_bndbox(mask, bndbox):\n",
        "\n",
        "    xmin, xmax = int(bndbox['xmin']), int(bndbox['xmax'])\n",
        "    ymin, ymax = int(bndbox['ymin']), int(bndbox['ymax'])\n",
        "\n",
        "    mask[xmin:xmax, ymin:ymax] = 1\n",
        "\n",
        "def set_allbndbox(mask, objects):\n",
        "\n",
        "    for obj in objects:\n",
        "        set_bndbox(mask, obj['bndbox'])\n",
        "\n",
        "def sets_describe(set_1, set_2):\n",
        "\n",
        "    print(f\"set_1 len: {len(set_1)}\")\n",
        "    print(f\"set_2 len: {len(set_2)}\")\n",
        "    print(f\"set_1 - set_2 len: {len(set_1 - set_2)}\")\n",
        "    print(f\"set_2 - set_1 len: {len(set_2 - set_1)}\")\n",
        "    print(f\"symmetric diff len: {len(set_2.symmetric_difference(set_1))}\")\n",
        "    print(f\"intersection len: {len(set_1.intersection(set_2))}\")\n",
        "    print(f\"union len: {len(set_1.union(set_2))}\")\n",
        "\n",
        "def get_image(imgfile):\n",
        "\n",
        "    return mpimg.imread(imgfile)\n",
        "\n",
        "def get_xmldict(xmlfile):\n",
        "\n",
        "    with open(xmlfile, 'r') as fp:\n",
        "\n",
        "        xmlcontent = fp.read()\n",
        "        xmldict = xmltodict.parse(xmlcontent)\n",
        "\n",
        "    return xmldict\n",
        "\n",
        "def get_mask(xmlfile):\n",
        "\n",
        "    xmldict = get_xmldict(xmlfile)\n",
        "\n",
        "    mask = np.zeros((200, 200))\n",
        "    if isinstance(xmldict['annotation']['object'], Dict):\n",
        "        set_bndbox(mask, xmldict['annotation']['object']['bndbox'])\n",
        "    else:\n",
        "        set_allbndbox(mask, xmldict['annotation']['object'])\n",
        "\n",
        "    return mask\n",
        "\n",
        "def show_image(imgfile):\n",
        "\n",
        "    img = get_image(imgfile)\n",
        "    print(img.shape)\n",
        "    fig, ax = plt.subplots(nrows=1, ncols=1, figsize=(14, 14))\n",
        "    ax.imshow(img)\n",
        "    ax.axis('off')\n",
        "    return fig, ax\n",
        "\n",
        "def show_mask(xmlfile, fig, ax):\n",
        "\n",
        "    mask = get_mask(xmlfile)\n",
        "\n",
        "    ax.imshow(mask.T, alpha=0.3)\n",
        "\n",
        "def show_obj(object_val, datafolder='./'):\n",
        "\n",
        "    imgfile = os.path.join(datafolder, 'images', object_val + '.jpg')\n",
        "    xmlfile = os.path.join(datafolder, 'anno', object_val + '.xml')\n",
        "\n",
        "    fig, ax = show_image(imgfile)\n",
        "    show_mask(xmlfile, fig, ax)\n",
        "\n",
        "def get_stats(object_val, datafolder='./'):\n",
        "\n",
        "    imgfile = os.path.join(datafolder, 'images', object_val + '.jpg')\n",
        "    xmlfile = os.path.join(datafolder, 'anno', object_val + '.xml')\n",
        "\n",
        "    img = get_image(imgfile)\n",
        "    mask = get_mask(xmlfile)\n",
        "\n",
        "    return img.shape, mask.sum()"
      ],
      "execution_count": 9,
      "outputs": []
    },
    {
      "cell_type": "markdown",
      "metadata": {
        "id": "UeWQzuRv7Njv"
      },
      "source": [
        "# Some tests"
      ]
    },
    {
      "cell_type": "code",
      "metadata": {
        "id": "cAJ_AClZ7Njv",
        "outputId": "85774c8a-e526-40da-9f0d-da005579946a",
        "colab": {
          "base_uri": "https://localhost:8080/"
        }
      },
      "source": [
        "mask = np.zeros((200,200))\n",
        "bndbox = d['annotation']['object'][0]['bndbox']\n",
        "print(mask.sum())\n",
        "set_bndbox(mask, bndbox)\n",
        "print(mask.sum())"
      ],
      "execution_count": 10,
      "outputs": [
        {
          "output_type": "stream",
          "name": "stdout",
          "text": [
            "0.0\n",
            "4148.0\n"
          ]
        }
      ]
    },
    {
      "cell_type": "code",
      "metadata": {
        "id": "Qmt67KdV7Njv",
        "outputId": "ac6bf5c3-00a5-483c-8491-cee152bef32b",
        "colab": {
          "base_uri": "https://localhost:8080/"
        }
      },
      "source": [
        "mask = np.zeros((200,200))\n",
        "objects = d['annotation']['object']\n",
        "print(mask.sum())\n",
        "set_allbndbox(mask, objects)\n",
        "print(mask.sum())"
      ],
      "execution_count": 11,
      "outputs": [
        {
          "output_type": "stream",
          "name": "stdout",
          "text": [
            "0.0\n",
            "6902.0\n"
          ]
        }
      ]
    },
    {
      "cell_type": "code",
      "metadata": {
        "id": "LkBcHANO7Njw",
        "outputId": "c2120c32-fc8e-417c-ed2f-4a5b3f42da5c",
        "colab": {
          "base_uri": "https://localhost:8080/"
        }
      },
      "source": [
        "jpgfiles = sorted(os.listdir(os.path.join(datafolder, 'images')))\n",
        "xmlfiles = sorted(os.listdir(os.path.join(datafolder, 'anno')))\n",
        "\n",
        "set_1 = set([f.split('.')[0] for f in jpgfiles])\n",
        "set_2 = set([f.split('.')[0] for f in xmlfiles])\n",
        "common_objects = set_1.intersection(set_2)\n",
        "sets_describe(set_1, set_2)"
      ],
      "execution_count": 12,
      "outputs": [
        {
          "output_type": "stream",
          "name": "stdout",
          "text": [
            "set_1 len: 480\n",
            "set_2 len: 480\n",
            "set_1 - set_2 len: 0\n",
            "set_2 - set_1 len: 0\n",
            "symmetric diff len: 0\n",
            "intersection len: 480\n",
            "union len: 480\n"
          ]
        }
      ]
    },
    {
      "cell_type": "markdown",
      "metadata": {
        "id": "rq8b8Qrh7Njw"
      },
      "source": [
        "# Get stats for images"
      ]
    },
    {
      "cell_type": "code",
      "metadata": {
        "id": "Cfj8464N7Njw"
      },
      "source": [
        "obj_dict = {obj: obj.split('_')[0] for obj in common_objects}\n",
        "df_obj = pd.DataFrame([obj_dict.keys(), obj_dict.values()], index=['obj', 'type']).T\n",
        "df_obj['id'] = df_obj['obj'].str.split('_').str[1].astype(int)\n",
        "df_obj = df_obj.sort_values(['type', 'id']).reset_index(drop=True)"
      ],
      "execution_count": 13,
      "outputs": []
    },
    {
      "cell_type": "code",
      "metadata": {
        "id": "AyvA-o0x7Njx",
        "outputId": "844ac910-dd6a-4d0c-a2db-754de9e49ae1",
        "colab": {
          "base_uri": "https://localhost:8080/"
        }
      },
      "source": [
        "df_obj['type'].unique()"
      ],
      "execution_count": 14,
      "outputs": [
        {
          "output_type": "execute_result",
          "data": {
            "text/plain": [
              "array(['inclusion', 'scratches'], dtype=object)"
            ]
          },
          "metadata": {},
          "execution_count": 14
        }
      ]
    },
    {
      "cell_type": "code",
      "metadata": {
        "id": "8b_JOiii7Njx",
        "outputId": "e3effc46-fa16-4aa3-ed03-0622055d64cd",
        "colab": {
          "base_uri": "https://localhost:8080/"
        }
      },
      "source": [
        "df_obj['id'].nunique()"
      ],
      "execution_count": 15,
      "outputs": [
        {
          "output_type": "execute_result",
          "data": {
            "text/plain": [
              "240"
            ]
          },
          "metadata": {},
          "execution_count": 15
        }
      ]
    },
    {
      "cell_type": "code",
      "metadata": {
        "id": "LR69trpT7Njx",
        "outputId": "95902ccc-4be3-4e03-81b3-3e9a1e14aeb9",
        "colab": {
          "base_uri": "https://localhost:8080/",
          "height": 810
        }
      },
      "source": [
        "i = 7\n",
        "object_val = df_obj.loc[i, 'obj']\n",
        "show_obj(object_val, datafolder)"
      ],
      "execution_count": 16,
      "outputs": [
        {
          "output_type": "stream",
          "name": "stdout",
          "text": [
            "(200, 200, 3)\n"
          ]
        },
        {
          "output_type": "display_data",
          "data": {
            "image/png": "[encoded data removed]",
            "text/plain": [
              "<Figure size 1008x1008 with 1 Axes>"
            ]
          },
          "metadata": {
            "needs_background": "light"
          }
        }
      ]
    },
    {
      "cell_type": "code",
      "metadata": {
        "id": "M6HZB9mI7Njx",
        "outputId": "e2e5e9fc-a655-4d8a-f694-5bfb45d7545e",
        "colab": {
          "base_uri": "https://localhost:8080/",
          "height": 272,
          "referenced_widgets": [
            "010d1a816765407784581a91432f3073",
            "0314c999317b4721a93dd1c7c8af7d57",
            "27a7cc176c8740979890abbbf69000fe",
            "10dbee94237548979437f9f75895c414",
            "ebb275e8a71c42838b75a61bad83a8a1",
            "c21116f44bc447d58b2906f391861221",
            "c2b807e171b94474a479a1ea5527bcca",
            "276c42bcf15a4f51940deaf98c4447bb",
            "99c909ea996c4bbbace7427144c3809a",
            "18951aee153743648dbc86e462d786de",
            "85f7bb8dbc54438999e984108c313507"
          ]
        }
      },
      "source": [
        "%%time\n",
        "\n",
        "# for idx, row in tqdm(df_obj.iterrows()):\n",
        "df_merge = {\n",
        "    'obj': [],\n",
        "    'w': [],\n",
        "    'h': [],\n",
        "    'd': [],\n",
        "    'm_s': [],\n",
        "}\n",
        "for idx, row in tqdm(df_obj.iterrows()):\n",
        "\n",
        "    img_shape, mask_size = get_stats(row['obj'], datafolder)\n",
        "    df_merge['obj'].append(row['obj'])\n",
        "    df_merge['w'].append(img_shape[0])\n",
        "    df_merge['h'].append(img_shape[1])\n",
        "    df_merge['d'].append(img_shape[2])\n",
        "    df_merge['m_s'].append(mask_size)\n",
        "\n",
        "df_merge = pd.DataFrame(df_merge)\n",
        "\n",
        "df_stats = df_obj.merge(df_merge, on='obj', how='left')\n",
        "\n",
        "df_stats['m_s_p'] = df_stats['m_s'] / (df_stats['w'] * df_stats['h']) \n",
        "display(df_stats.head())"
      ],
      "execution_count": 17,
      "outputs": [
        {
          "output_type": "display_data",
          "data": {
            "application/vnd.jupyter.widget-view+json": {
              "model_id": "010d1a816765407784581a91432f3073",
              "version_minor": 0,
              "version_major": 2
            },
            "text/plain": [
              "0it [00:00, ?it/s]"
            ]
          },
          "metadata": {}
        },
        {
          "output_type": "display_data",
          "data": {
            "text/html": [
              "<div>\n",
              "<style scoped>\n",
              "    .dataframe tbody tr th:only-of-type {\n",
              "        vertical-align: middle;\n",
              "    }\n",
              "\n",
              "    .dataframe tbody tr th {\n",
              "        vertical-align: top;\n",
              "    }\n",
              "\n",
              "    .dataframe thead th {\n",
              "        text-align: right;\n",
              "    }\n",
              "</style>\n",
              "<table border=\"1\" class=\"dataframe\">\n",
              "  <thead>\n",
              "    <tr style=\"text-align: right;\">\n",
              "      <th></th>\n",
              "      <th>obj</th>\n",
              "      <th>type</th>\n",
              "      <th>id</th>\n",
              "      <th>w</th>\n",
              "      <th>h</th>\n",
              "      <th>d</th>\n",
              "      <th>m_s</th>\n",
              "      <th>m_s_p</th>\n",
              "    </tr>\n",
              "  </thead>\n",
              "  <tbody>\n",
              "    <tr>\n",
              "      <th>0</th>\n",
              "      <td>inclusion_1</td>\n",
              "      <td>inclusion</td>\n",
              "      <td>1</td>\n",
              "      <td>200</td>\n",
              "      <td>200</td>\n",
              "      <td>3</td>\n",
              "      <td>3321.0</td>\n",
              "      <td>0.083025</td>\n",
              "    </tr>\n",
              "    <tr>\n",
              "      <th>1</th>\n",
              "      <td>inclusion_2</td>\n",
              "      <td>inclusion</td>\n",
              "      <td>2</td>\n",
              "      <td>200</td>\n",
              "      <td>200</td>\n",
              "      <td>3</td>\n",
              "      <td>1822.0</td>\n",
              "      <td>0.045550</td>\n",
              "    </tr>\n",
              "    <tr>\n",
              "      <th>2</th>\n",
              "      <td>inclusion_3</td>\n",
              "      <td>inclusion</td>\n",
              "      <td>3</td>\n",
              "      <td>200</td>\n",
              "      <td>200</td>\n",
              "      <td>3</td>\n",
              "      <td>3670.0</td>\n",
              "      <td>0.091750</td>\n",
              "    </tr>\n",
              "    <tr>\n",
              "      <th>3</th>\n",
              "      <td>inclusion_4</td>\n",
              "      <td>inclusion</td>\n",
              "      <td>4</td>\n",
              "      <td>200</td>\n",
              "      <td>200</td>\n",
              "      <td>3</td>\n",
              "      <td>3069.0</td>\n",
              "      <td>0.076725</td>\n",
              "    </tr>\n",
              "    <tr>\n",
              "      <th>4</th>\n",
              "      <td>inclusion_5</td>\n",
              "      <td>inclusion</td>\n",
              "      <td>5</td>\n",
              "      <td>200</td>\n",
              "      <td>200</td>\n",
              "      <td>3</td>\n",
              "      <td>3968.0</td>\n",
              "      <td>0.099200</td>\n",
              "    </tr>\n",
              "  </tbody>\n",
              "</table>\n",
              "</div>"
            ],
            "text/plain": [
              "           obj       type  id    w    h  d     m_s     m_s_p\n",
              "0  inclusion_1  inclusion   1  200  200  3  3321.0  0.083025\n",
              "1  inclusion_2  inclusion   2  200  200  3  1822.0  0.045550\n",
              "2  inclusion_3  inclusion   3  200  200  3  3670.0  0.091750\n",
              "3  inclusion_4  inclusion   4  200  200  3  3069.0  0.076725\n",
              "4  inclusion_5  inclusion   5  200  200  3  3968.0  0.099200"
            ]
          },
          "metadata": {}
        },
        {
          "output_type": "stream",
          "name": "stdout",
          "text": [
            "CPU times: user 1.19 s, sys: 182 ms, total: 1.37 s\n",
            "Wall time: 2.29 s\n"
          ]
        }
      ]
    },
    {
      "cell_type": "code",
      "metadata": {
        "id": "LiXFbmp97Njy",
        "outputId": "f8fb198e-b021-4717-b312-d60cb5d58197",
        "colab": {
          "base_uri": "https://localhost:8080/"
        }
      },
      "source": [
        "df_stats['type'].unique()"
      ],
      "execution_count": 18,
      "outputs": [
        {
          "output_type": "execute_result",
          "data": {
            "text/plain": [
              "array(['inclusion', 'scratches'], dtype=object)"
            ]
          },
          "metadata": {},
          "execution_count": 18
        }
      ]
    },
    {
      "cell_type": "code",
      "metadata": {
        "id": "r2r05V_W7Njy",
        "outputId": "ce6b796e-ac99-4e98-fcc3-765087f69304",
        "colab": {
          "base_uri": "https://localhost:8080/",
          "height": 266
        }
      },
      "source": [
        "mask = df_stats['type'] == 'inclusion'\n",
        "df_stats[mask].describe().drop(['count'], axis=0).drop(['id'], axis=1)"
      ],
      "execution_count": 19,
      "outputs": [
        {
          "output_type": "execute_result",
          "data": {
            "text/html": [
              "<div>\n",
              "<style scoped>\n",
              "    .dataframe tbody tr th:only-of-type {\n",
              "        vertical-align: middle;\n",
              "    }\n",
              "\n",
              "    .dataframe tbody tr th {\n",
              "        vertical-align: top;\n",
              "    }\n",
              "\n",
              "    .dataframe thead th {\n",
              "        text-align: right;\n",
              "    }\n",
              "</style>\n",
              "<table border=\"1\" class=\"dataframe\">\n",
              "  <thead>\n",
              "    <tr style=\"text-align: right;\">\n",
              "      <th></th>\n",
              "      <th>w</th>\n",
              "      <th>h</th>\n",
              "      <th>d</th>\n",
              "      <th>m_s</th>\n",
              "      <th>m_s_p</th>\n",
              "    </tr>\n",
              "  </thead>\n",
              "  <tbody>\n",
              "    <tr>\n",
              "      <th>mean</th>\n",
              "      <td>200.0</td>\n",
              "      <td>200.0</td>\n",
              "      <td>3.0</td>\n",
              "      <td>8971.279167</td>\n",
              "      <td>0.224282</td>\n",
              "    </tr>\n",
              "    <tr>\n",
              "      <th>std</th>\n",
              "      <td>0.0</td>\n",
              "      <td>0.0</td>\n",
              "      <td>0.0</td>\n",
              "      <td>4801.547188</td>\n",
              "      <td>0.120039</td>\n",
              "    </tr>\n",
              "    <tr>\n",
              "      <th>min</th>\n",
              "      <td>200.0</td>\n",
              "      <td>200.0</td>\n",
              "      <td>3.0</td>\n",
              "      <td>540.000000</td>\n",
              "      <td>0.013500</td>\n",
              "    </tr>\n",
              "    <tr>\n",
              "      <th>25%</th>\n",
              "      <td>200.0</td>\n",
              "      <td>200.0</td>\n",
              "      <td>3.0</td>\n",
              "      <td>5224.750000</td>\n",
              "      <td>0.130619</td>\n",
              "    </tr>\n",
              "    <tr>\n",
              "      <th>50%</th>\n",
              "      <td>200.0</td>\n",
              "      <td>200.0</td>\n",
              "      <td>3.0</td>\n",
              "      <td>8583.500000</td>\n",
              "      <td>0.214587</td>\n",
              "    </tr>\n",
              "    <tr>\n",
              "      <th>75%</th>\n",
              "      <td>200.0</td>\n",
              "      <td>200.0</td>\n",
              "      <td>3.0</td>\n",
              "      <td>11934.750000</td>\n",
              "      <td>0.298369</td>\n",
              "    </tr>\n",
              "    <tr>\n",
              "      <th>max</th>\n",
              "      <td>200.0</td>\n",
              "      <td>200.0</td>\n",
              "      <td>3.0</td>\n",
              "      <td>24098.000000</td>\n",
              "      <td>0.602450</td>\n",
              "    </tr>\n",
              "  </tbody>\n",
              "</table>\n",
              "</div>"
            ],
            "text/plain": [
              "          w      h    d           m_s     m_s_p\n",
              "mean  200.0  200.0  3.0   8971.279167  0.224282\n",
              "std     0.0    0.0  0.0   4801.547188  0.120039\n",
              "min   200.0  200.0  3.0    540.000000  0.013500\n",
              "25%   200.0  200.0  3.0   5224.750000  0.130619\n",
              "50%   200.0  200.0  3.0   8583.500000  0.214587\n",
              "75%   200.0  200.0  3.0  11934.750000  0.298369\n",
              "max   200.0  200.0  3.0  24098.000000  0.602450"
            ]
          },
          "metadata": {},
          "execution_count": 19
        }
      ]
    },
    {
      "cell_type": "code",
      "metadata": {
        "id": "WOHay6dL7Njy",
        "outputId": "983188eb-f662-48b5-926f-6381d78019d9",
        "colab": {
          "base_uri": "https://localhost:8080/",
          "height": 705
        }
      },
      "source": [
        "fig, ax = plt.subplots(1, 1, figsize=(14, 12))\n",
        "df_stats[mask]['m_s_p'].hist(ax=ax, alpha=0.3, label='inclusion')\n",
        "df_stats[~mask]['m_s_p'].hist(ax=ax, alpha=0.3, label='scratches')\n",
        "ax.set_title('size distributions in pixels per type of defects')\n",
        "plt.legend();"
      ],
      "execution_count": 20,
      "outputs": [
        {
          "output_type": "display_data",
          "data": {
            "image/png": "[encoded data removed]",
            "text/plain": [
              "<Figure size 1008x864 with 1 Axes>"
            ]
          },
          "metadata": {
            "needs_background": "light"
          }
        }
      ]
    }
  ]
}