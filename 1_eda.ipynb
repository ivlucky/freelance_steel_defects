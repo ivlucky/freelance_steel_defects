{
  "nbformat": 4,
  "nbformat_minor": 0,
  "metadata": {
    "interpreter": {
      "hash": "36255955261d5e753ab71561dcd885ee1b72d92e8be276c61d3593b517160cb0"
    },
    "kernelspec": {
      "display_name": "Python 3.8.9 64-bit ('steel_defects': venv)",
      "name": "python3"
    },
    "language_info": {
      "codemirror_mode": {
        "name": "ipython",
        "version": 3
      },
      "file_extension": ".py",
      "mimetype": "text/x-python",
      "name": "python",
      "nbconvert_exporter": "python",
      "pygments_lexer": "ipython3",
      "version": "3.8.9"
    },
    "orig_nbformat": 4,
    "colab": {
      "name": "1_eda.ipynb",
      "provenance": [],
      "include_colab_link": true
    }
  },
  "cells": [
    {
      "cell_type": "markdown",
      "metadata": {
        "id": "view-in-github",
        "colab_type": "text"
      },
      "source": [
        "<a href=\"https://colab.research.google.com/github/ivlucky/freelance_steel_defects/blob/master/1_eda.ipynb\" target=\"_parent\"><img src=\"https://colab.research.google.com/assets/colab-badge.svg\" alt=\"Open In Colab\"/></a>"
      ]
    },
    {
      "cell_type": "markdown",
      "metadata": {
        "id": "MMoAwMT47ZsX"
      },
      "source": [
        "# Installation"
      ]
    },
    {
      "cell_type": "code",
      "metadata": {
        "id": "rvhHlqnI7ZLW"
      },
      "source": [
        "!pip install xmltodict==0.12.0"
      ],
      "execution_count": null,
      "outputs": []
    },
    {
      "cell_type": "markdown",
      "metadata": {
        "id": "Wl9gqBpg7Njj"
      },
      "source": [
        "# Imports"
      ]
    },
    {
      "cell_type": "code",
      "metadata": {
        "id": "1PVhdtPf7Njp"
      },
      "source": [
        "import xml.etree.ElementTree as ET\n",
        "import xmltodict\n",
        "import os\n",
        "import numpy as np\n",
        "import pandas as pd\n",
        "from tqdm.notebook import tqdm\n",
        "import matplotlib.pyplot as plt\n",
        "import matplotlib.image as mpimg\n",
        "from typing import Dict\n",
        "\n"
      ],
      "execution_count": 2,
      "outputs": []
    },
    {
      "cell_type": "markdown",
      "metadata": {
        "id": "ocMcOexg7S08"
      },
      "source": [
        "# Add mount"
      ]
    },
    {
      "cell_type": "code",
      "metadata": {
        "id": "WevOMcIX7SD2"
      },
      "source": [
        "from google.colab import drive\n",
        "drive.mount('/content/drive')"
      ],
      "execution_count": null,
      "outputs": []
    },
    {
      "cell_type": "markdown",
      "metadata": {
        "id": "LAS15VO47Njr"
      },
      "source": [
        "# Check xml files"
      ]
    },
    {
      "cell_type": "code",
      "metadata": {
        "id": "WobO1Fo17Njs"
      },
      "source": [
        "datafolder = '/content/drive/MyDrive/data/Project_steel_plate_defect_detection_dataset'\n",
        "inputfolder = os.path.join(datafolder, 'input')\n",
        "xmlfile = os.listdir(os.path.join(inputfolder, 'anno'))[0]"
      ],
      "execution_count": 4,
      "outputs": []
    },
    {
      "cell_type": "code",
      "metadata": {
        "id": "IKGGD5f97Njs"
      },
      "source": [
        "tree = ET.parse(os.path.join(inputfolder, 'anno', xmlfile))\n",
        "root = tree.getroot()"
      ],
      "execution_count": 5,
      "outputs": []
    },
    {
      "cell_type": "code",
      "metadata": {
        "id": "Li6SFSYy7Njs"
      },
      "source": [
        "for child in root:\n",
        "    print(child.tag, child.attrib)"
      ],
      "execution_count": null,
      "outputs": []
    },
    {
      "cell_type": "code",
      "metadata": {
        "id": "emi-zaKI7Njs"
      },
      "source": [
        "root[5][4][0].text"
      ],
      "execution_count": null,
      "outputs": []
    },
    {
      "cell_type": "markdown",
      "metadata": {
        "id": "qTli_h1f7Njt"
      },
      "source": [
        "# xml -> dict"
      ]
    },
    {
      "cell_type": "code",
      "metadata": {
        "id": "R2h6P41o7Njt"
      },
      "source": [
        "with open(os.path.join(inputfolder, 'anno', xmlfile), 'r') as fp:\n",
        "\n",
        "    xmlcontent = fp.read()\n",
        "    d = xmltodict.parse(xmlcontent)\n",
        "d['annotation']['object'][1]"
      ],
      "execution_count": null,
      "outputs": []
    },
    {
      "cell_type": "markdown",
      "metadata": {
        "id": "oH5GBCPW7Njt"
      },
      "source": [
        "# Functions"
      ]
    },
    {
      "cell_type": "code",
      "metadata": {
        "id": "joiq2SIL7Nju"
      },
      "source": [
        "def set_bndbox(mask, bndbox):\n",
        "\n",
        "    xmin, xmax = int(bndbox['xmin']), int(bndbox['xmax'])\n",
        "    ymin, ymax = int(bndbox['ymin']), int(bndbox['ymax'])\n",
        "\n",
        "    mask[xmin:xmax, ymin:ymax] = 1\n",
        "\n",
        "def set_allbndbox(mask, objects):\n",
        "\n",
        "    for obj in objects:\n",
        "        set_bndbox(mask, obj['bndbox'])\n",
        "\n",
        "def sets_describe(set_1, set_2):\n",
        "\n",
        "    print(f\"set_1 len: {len(set_1)}\")\n",
        "    print(f\"set_2 len: {len(set_2)}\")\n",
        "    print(f\"set_1 - set_2 len: {len(set_1 - set_2)}\")\n",
        "    print(f\"set_2 - set_1 len: {len(set_2 - set_1)}\")\n",
        "    print(f\"symmetric diff len: {len(set_2.symmetric_difference(set_1))}\")\n",
        "    print(f\"intersection len: {len(set_1.intersection(set_2))}\")\n",
        "    print(f\"union len: {len(set_1.union(set_2))}\")\n",
        "\n",
        "def get_image(imgfile):\n",
        "\n",
        "    return mpimg.imread(imgfile)\n",
        "\n",
        "def get_xmldict(xmlfile):\n",
        "\n",
        "    with open(xmlfile, 'r') as fp:\n",
        "\n",
        "        xmlcontent = fp.read()\n",
        "        xmldict = xmltodict.parse(xmlcontent)\n",
        "\n",
        "    return xmldict\n",
        "\n",
        "def get_mask(xmlfile):\n",
        "\n",
        "    xmldict = get_xmldict(xmlfile)\n",
        "\n",
        "    mask = np.zeros((200, 200))\n",
        "    if isinstance(xmldict['annotation']['object'], Dict):\n",
        "        set_bndbox(mask, xmldict['annotation']['object']['bndbox'])\n",
        "    else:\n",
        "        set_allbndbox(mask, xmldict['annotation']['object'])\n",
        "\n",
        "    return mask\n",
        "\n",
        "def show_image(imgfile):\n",
        "\n",
        "    img = get_image(imgfile)\n",
        "    print(img.shape)\n",
        "    fig, ax = plt.subplots(nrows=1, ncols=1, figsize=(14, 14))\n",
        "    ax.imshow(img)\n",
        "    ax.axis('off')\n",
        "    return fig, ax\n",
        "\n",
        "def show_mask(xmlfile, fig, ax):\n",
        "\n",
        "    mask = get_mask(xmlfile)\n",
        "\n",
        "    ax.imshow(mask.T, alpha=0.3)\n",
        "\n",
        "def show_obj(object_val, datafolder='./'):\n",
        "\n",
        "    imgfile = os.path.join(datafolder, 'images', object_val + '.jpg')\n",
        "    xmlfile = os.path.join(datafolder, 'anno', object_val + '.xml')\n",
        "\n",
        "    fig, ax = show_image(imgfile)\n",
        "    show_mask(xmlfile, fig, ax)\n",
        "\n",
        "def get_stats(object_val, datafolder='./'):\n",
        "\n",
        "    imgfile = os.path.join(datafolder, 'images', object_val + '.jpg')\n",
        "    xmlfile = os.path.join(datafolder, 'anno', object_val + '.xml')\n",
        "\n",
        "    img = get_image(imgfile)\n",
        "    mask = get_mask(xmlfile)\n",
        "\n",
        "    return img.shape, mask.sum()"
      ],
      "execution_count": 9,
      "outputs": []
    },
    {
      "cell_type": "markdown",
      "metadata": {
        "id": "UeWQzuRv7Njv"
      },
      "source": [
        "# Some tests"
      ]
    },
    {
      "cell_type": "code",
      "metadata": {
        "id": "cAJ_AClZ7Njv"
      },
      "source": [
        "mask = np.zeros((200,200))\n",
        "bndbox = d['annotation']['object'][0]['bndbox']\n",
        "print(mask.sum())\n",
        "set_bndbox(mask, bndbox)\n",
        "print(mask.sum())"
      ],
      "execution_count": null,
      "outputs": []
    },
    {
      "cell_type": "code",
      "metadata": {
        "id": "Qmt67KdV7Njv"
      },
      "source": [
        "mask = np.zeros((200,200))\n",
        "objects = d['annotation']['object']\n",
        "print(mask.sum())\n",
        "set_allbndbox(mask, objects)\n",
        "print(mask.sum())"
      ],
      "execution_count": null,
      "outputs": []
    },
    {
      "cell_type": "code",
      "metadata": {
        "id": "LkBcHANO7Njw"
      },
      "source": [
        "jpgfiles = sorted(os.listdir(os.path.join(inputfolder, 'images')))\n",
        "xmlfiles = sorted(os.listdir(os.path.join(inputfolder, 'anno')))\n",
        "\n",
        "set_1 = set([f.split('.')[0] for f in jpgfiles])\n",
        "set_2 = set([f.split('.')[0] for f in xmlfiles])\n",
        "common_objects = set_1.intersection(set_2)\n",
        "sets_describe(set_1, set_2)"
      ],
      "execution_count": null,
      "outputs": []
    },
    {
      "cell_type": "markdown",
      "metadata": {
        "id": "rq8b8Qrh7Njw"
      },
      "source": [
        "# Get stats for images"
      ]
    },
    {
      "cell_type": "code",
      "metadata": {
        "id": "Cfj8464N7Njw"
      },
      "source": [
        "obj_dict = {obj: obj.split('_')[0] for obj in common_objects}\n",
        "df_obj = pd.DataFrame([obj_dict.keys(), obj_dict.values()], index=['obj', 'type']).T\n",
        "df_obj['id'] = df_obj['obj'].str.split('_').str[1].astype(int)\n",
        "df_obj = df_obj.sort_values(['type', 'id']).reset_index(drop=True)"
      ],
      "execution_count": 13,
      "outputs": []
    },
    {
      "cell_type": "code",
      "metadata": {
        "id": "AyvA-o0x7Njx"
      },
      "source": [
        "df_obj['type'].unique()"
      ],
      "execution_count": null,
      "outputs": []
    },
    {
      "cell_type": "code",
      "metadata": {
        "id": "8b_JOiii7Njx"
      },
      "source": [
        "df_obj['id'].nunique()"
      ],
      "execution_count": null,
      "outputs": []
    },
    {
      "cell_type": "code",
      "metadata": {
        "id": "LR69trpT7Njx"
      },
      "source": [
        "i = 7\n",
        "object_val = df_obj.loc[i, 'obj']\n",
        "show_obj(object_val, inputfolder)"
      ],
      "execution_count": null,
      "outputs": []
    },
    {
      "cell_type": "code",
      "metadata": {
        "id": "M6HZB9mI7Njx"
      },
      "source": [
        "%%time\n",
        "\n",
        "# for idx, row in tqdm(df_obj.iterrows()):\n",
        "df_merge = {\n",
        "    'obj': [],\n",
        "    'w': [],\n",
        "    'h': [],\n",
        "    'd': [],\n",
        "    'm_s': [],\n",
        "}\n",
        "for idx, row in tqdm(df_obj.iterrows()):\n",
        "\n",
        "    img_shape, mask_size = get_stats(row['obj'], inputfolder)\n",
        "    df_merge['obj'].append(row['obj'])\n",
        "    df_merge['w'].append(img_shape[0])\n",
        "    df_merge['h'].append(img_shape[1])\n",
        "    df_merge['d'].append(img_shape[2])\n",
        "    df_merge['m_s'].append(mask_size)\n",
        "\n",
        "df_merge = pd.DataFrame(df_merge)\n",
        "\n",
        "df_stats = df_obj.merge(df_merge, on='obj', how='left')\n",
        "\n",
        "df_stats['m_s_p'] = df_stats['m_s'] / (df_stats['w'] * df_stats['h']) \n",
        "display(df_stats.head())"
      ],
      "execution_count": null,
      "outputs": []
    },
    {
      "cell_type": "code",
      "metadata": {
        "id": "LiXFbmp97Njy"
      },
      "source": [
        "df_stats['type'].unique()"
      ],
      "execution_count": null,
      "outputs": []
    },
    {
      "cell_type": "code",
      "metadata": {
        "id": "r2r05V_W7Njy"
      },
      "source": [
        "mask = df_stats['type'] == 'inclusion'\n",
        "df_stats[mask].describe().drop(['count'], axis=0).drop(['id'], axis=1)"
      ],
      "execution_count": null,
      "outputs": []
    },
    {
      "cell_type": "code",
      "metadata": {
        "id": "WOHay6dL7Njy"
      },
      "source": [
        "fig, ax = plt.subplots(1, 1, figsize=(14, 12))\n",
        "df_stats[mask]['m_s_p'].hist(ax=ax, alpha=0.3, label='inclusion')\n",
        "df_stats[~mask]['m_s_p'].hist(ax=ax, alpha=0.3, label='scratches')\n",
        "ax.set_title('size distributions in pixels per type of defects')\n",
        "plt.legend();"
      ],
      "execution_count": null,
      "outputs": []
    }
  ]
}